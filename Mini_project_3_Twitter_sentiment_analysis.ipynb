{
  "nbformat": 4,
  "nbformat_minor": 0,
  "metadata": {
    "colab": {
      "provenance": []
    },
    "kernelspec": {
      "name": "python3",
      "display_name": "Python 3"
    },
    "language_info": {
      "name": "python"
    }
  },
  "cells": [
    {
      "cell_type": "code",
      "execution_count": null,
      "metadata": {
        "id": "HJTuJP0a4RwE"
      },
      "outputs": [],
      "source": [
        "import re\n",
        "import tweepy\n",
        "from tweepy import OAuthHandler\n",
        "from textblob import TextBlob\n"
      ]
    },
    {
      "cell_type": "code",
      "source": [
        "class TwitterClient(object):\n",
        "    '''\n",
        "    Generic Twitter Class for sentiment analysis.\n",
        "    '''"
      ],
      "metadata": {
        "id": "49pLUGH64gzV"
      },
      "execution_count": null,
      "outputs": []
    },
    {
      "cell_type": "code",
      "source": [
        "def __init__(self):\n",
        "        '''\n",
        "        Class constructor or initialization method.\n",
        "        '''\n",
        "        # keys and tokens from the Twitter Dev Console\n",
        "        consumer_key = 'XXXXXXXXXXXXXXXXXXXXXXXX'\n",
        "        consumer_secret = 'XXXXXXXXXXXXXXXXXXXXXXXXXXXX'\n",
        "        access_token = 'XXXXXXXXXXXXXXXXXXXXXXXXXXXX'\n",
        "        access_token_secret = 'XXXXXXXXXXXXXXXXXXXXXXXXX'"
      ],
      "metadata": {
        "id": "xwa84Okd4nNN"
      },
      "execution_count": null,
      "outputs": []
    },
    {
      "cell_type": "code",
      "source": [
        " # attempt authentication\n",
        "        try:\n",
        "            # create OAuthHandler object\n",
        "            self.auth = OAuthHandler(consumer_key, consumer_secret)\n",
        "            # set access token and secret\n",
        "            self.auth.set_access_token(access_token, access_token_secret)\n",
        "            # create tweepy API object to fetch tweets\n",
        "            self.api = tweepy.API(self.auth)\n",
        "        except:\n",
        "            print(\"Error: Authentication Failed\")"
      ],
      "metadata": {
        "colab": {
          "base_uri": "https://localhost:8080/",
          "height": 106
        },
        "id": "Um8tsaqL4yan",
        "outputId": "a331db51-3960-4754-8222-70de0aa8bb02"
      },
      "execution_count": null,
      "outputs": [
        {
          "output_type": "error",
          "ename": "IndentationError",
          "evalue": "unexpected indent (<ipython-input-4-a700806aa3a0>, line 2)",
          "traceback": [
            "\u001b[0;36m  File \u001b[0;32m\"<ipython-input-4-a700806aa3a0>\"\u001b[0;36m, line \u001b[0;32m2\u001b[0m\n\u001b[0;31m    try:\u001b[0m\n\u001b[0m    ^\u001b[0m\n\u001b[0;31mIndentationError\u001b[0m\u001b[0;31m:\u001b[0m unexpected indent\n"
          ]
        }
      ]
    },
    {
      "cell_type": "code",
      "source": [
        "def clean_tweet(self, tweet):\n",
        "        '''\n",
        "        Utility function to clean tweet text by removing links, special characters\n",
        "        using simple regex statements.\n",
        "        '''\n",
        "        return ' '.join(re.sub(\"(@[A-Za-z0-9]+)|([^0-9A-Za-z \\t])\n",
        "                                    |(\\w+:\\/\\/\\S+)\", \" \", tweet).split())"
      ],
      "metadata": {
        "colab": {
          "base_uri": "https://localhost:8080/",
          "height": 106
        },
        "id": "Ra8ZR3DD42DN",
        "outputId": "2c6e8391-b9aa-437e-c7b5-43af3b164cac"
      },
      "execution_count": null,
      "outputs": [
        {
          "output_type": "error",
          "ename": "SyntaxError",
          "evalue": "unterminated string literal (detected at line 6) (<ipython-input-5-38a8fc4ba01c>, line 6)",
          "traceback": [
            "\u001b[0;36m  File \u001b[0;32m\"<ipython-input-5-38a8fc4ba01c>\"\u001b[0;36m, line \u001b[0;32m6\u001b[0m\n\u001b[0;31m    return ' '.join(re.sub(\"(@[A-Za-z0-9]+)|([^0-9A-Za-z \\t])\u001b[0m\n\u001b[0m                           ^\u001b[0m\n\u001b[0;31mSyntaxError\u001b[0m\u001b[0;31m:\u001b[0m unterminated string literal (detected at line 6)\n"
          ]
        }
      ]
    },
    {
      "cell_type": "code",
      "source": [
        "def get_tweet_sentiment(self, tweet):\n",
        "        '''\n",
        "        Utility function to classify sentiment of passed tweet\n",
        "        using textblob's sentiment method\n",
        "        '''\n",
        "        # create TextBlob object of passed tweet text\n",
        "        analysis = TextBlob(self.clean_tweet(tweet))\n",
        "        # set sentiment\n",
        "        if analysis.sentiment.polarity > 0:\n",
        "            return 'positive'\n",
        "        elif analysis.sentiment.polarity == 0:\n",
        "            return 'neutral'\n",
        "        else:\n",
        "            return 'negative'"
      ],
      "metadata": {
        "id": "l16LVJjY45HP"
      },
      "execution_count": null,
      "outputs": []
    },
    {
      "cell_type": "code",
      "source": [
        "def get_tweets(self, query, count = 10):\n",
        "        '''\n",
        "        Main function to fetch tweets and parse them.\n",
        "        '''\n",
        "        # empty list to store parsed tweets\n",
        "        tweets = []\n",
        "\n",
        "        try:\n",
        "            # call twitter api to fetch tweets\n",
        "            fetched_tweets = self.api.search(q = query, count = count)\n",
        "\n",
        "            # parsing tweets one by one\n",
        "            for tweet in fetched_tweets:\n",
        "                # empty dictionary to store required params of a tweet\n",
        "                parsed_tweet = {}\n",
        "\n",
        "                # saving text of tweet\n",
        "                parsed_tweet['text'] = tweet.text\n",
        "                # saving sentiment of tweet\n",
        "                parsed_tweet['sentiment'] = self.get_tweet_sentiment(tweet.text)\n",
        "\n",
        "                # appending parsed tweet to tweets list\n",
        "                if tweet.retweet_count > 0:\n",
        "                    # if tweet has retweets, ensure that it is appended only once\n",
        "                    if parsed_tweet not in tweets:\n",
        "                        tweets.append(parsed_tweet)\n",
        "                else:\n",
        "                    tweets.append(parsed_tweet)\n",
        " # return parsed tweets\n",
        "            return tweets\n",
        "\n",
        "        except tweepy.TweepError as e:\n",
        "            # print error (if any)\n",
        "            print(\"Error : \" + str(e))"
      ],
      "metadata": {
        "id": "86hLK_6K5R3j"
      },
      "execution_count": null,
      "outputs": []
    },
    {
      "cell_type": "code",
      "source": [
        "def main():\n",
        "    # creating object of TwitterClient Class\n",
        "    api = TwitterClient()\n",
        "    # calling function to get tweets\n",
        "    tweets = api.get_tweets(query = 'Donald Trump', count = 200)\n",
        "\n",
        "    # picking positive tweets from tweets\n",
        "    ptweets = [tweet for tweet in tweets if tweet['sentiment'] == 'positive']\n",
        "    # percentage of positive tweets\n",
        "    print(\"Positive tweets percentage: {} %\".format(100*len(ptweets)/len(tweets)))\n",
        "    # picking negative tweets from tweets\n",
        "    ntweets = [tweet for tweet in tweets if tweet['sentiment'] == 'negative']\n",
        "    # percentage of negative tweets\n",
        "    print(\"Negative tweets percentage: {} %\".format(100*len(ntweets)/len(tweets)))\n",
        "    # percentage of neutral tweets\n",
        "    print(\"Neutral tweets percentage: {} % \\\n",
        "        \".format(100*(len(tweets) -(len( ntweets )+len( ptweets)))/len(tweets)))"
      ],
      "metadata": {
        "id": "00Dcsk7u5YAl"
      },
      "execution_count": null,
      "outputs": []
    },
    {
      "cell_type": "code",
      "source": [
        "# printing first 5 positive tweets\n",
        "    print(\"\\n\\nPositive tweets:\")\n",
        "    for tweet in ptweets[:10]:\n",
        "        print(tweet['text'])\n"
      ],
      "metadata": {
        "colab": {
          "base_uri": "https://localhost:8080/",
          "height": 106
        },
        "id": "exLKG-Oo5hil",
        "outputId": "46b12b77-d843-4dfc-f43a-adc25a7389cc"
      },
      "execution_count": null,
      "outputs": [
        {
          "output_type": "error",
          "ename": "IndentationError",
          "evalue": "unexpected indent (<ipython-input-10-a41faa337d9d>, line 2)",
          "traceback": [
            "\u001b[0;36m  File \u001b[0;32m\"<ipython-input-10-a41faa337d9d>\"\u001b[0;36m, line \u001b[0;32m2\u001b[0m\n\u001b[0;31m    print(\"\\n\\nPositive tweets:\")\u001b[0m\n\u001b[0m    ^\u001b[0m\n\u001b[0;31mIndentationError\u001b[0m\u001b[0;31m:\u001b[0m unexpected indent\n"
          ]
        }
      ]
    },
    {
      "cell_type": "code",
      "source": [
        "# printing first 5 negative tweets\n",
        "    print(\"\\n\\nNegative tweets:\")\n",
        "    for tweet in ntweets[:10]:\n",
        "        print(tweet['text'])"
      ],
      "metadata": {
        "colab": {
          "base_uri": "https://localhost:8080/",
          "height": 106
        },
        "id": "3bzbZW0-5oSl",
        "outputId": "2a466944-f70a-46f1-cd44-4147eee121e1"
      },
      "execution_count": null,
      "outputs": [
        {
          "output_type": "error",
          "ename": "IndentationError",
          "evalue": "unexpected indent (<ipython-input-11-f2f287f77f74>, line 2)",
          "traceback": [
            "\u001b[0;36m  File \u001b[0;32m\"<ipython-input-11-f2f287f77f74>\"\u001b[0;36m, line \u001b[0;32m2\u001b[0m\n\u001b[0;31m    print(\"\\n\\nNegative tweets:\")\u001b[0m\n\u001b[0m    ^\u001b[0m\n\u001b[0;31mIndentationError\u001b[0m\u001b[0;31m:\u001b[0m unexpected indent\n"
          ]
        }
      ]
    },
    {
      "cell_type": "code",
      "source": [],
      "metadata": {
        "id": "TNHI7ngm5pm0"
      },
      "execution_count": null,
      "outputs": []
    }
  ]
}